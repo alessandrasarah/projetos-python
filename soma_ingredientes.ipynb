{
  "nbformat": 4,
  "nbformat_minor": 0,
  "metadata": {
    "colab": {
      "provenance": [],
      "authorship_tag": "ABX9TyMJ8nlWRFR/hSAmu5oyo5dW",
      "include_colab_link": true
    },
    "kernelspec": {
      "name": "python3",
      "display_name": "Python 3"
    },
    "language_info": {
      "name": "python"
    }
  },
  "cells": [
    {
      "cell_type": "markdown",
      "metadata": {
        "id": "view-in-github",
        "colab_type": "text"
      },
      "source": [
        "<a href=\"https://colab.research.google.com/github/alessandrasarah/projetos-python/blob/main/soma_ingredientes.ipynb\" target=\"_parent\"><img src=\"https://colab.research.google.com/assets/colab-badge.svg\" alt=\"Open In Colab\"/></a>"
      ]
    },
    {
      "cell_type": "code",
      "execution_count": null,
      "metadata": {
        "colab": {
          "base_uri": "https://localhost:8080/"
        },
        "id": "vC5Il1NPY3cM",
        "outputId": "f7eda008-a3d0-4a06-afbd-05d58caab6a0"
      },
      "outputs": [
        {
          "output_type": "stream",
          "name": "stdout",
          "text": [
            "Olá mundo\n"
          ]
        }
      ],
      "source": [
        "print (\"Olá mundo\")"
      ]
    },
    {
      "cell_type": "markdown",
      "source": [
        "#Soma ingredientes\n"
      ],
      "metadata": {
        "id": "2LtYPDNAaAN1"
      }
    },
    {
      "cell_type": "code",
      "source": [
        "#Importações\n",
        "import sys"
      ],
      "metadata": {
        "id": "D9rdtqfFaEHB"
      },
      "execution_count": null,
      "outputs": []
    },
    {
      "cell_type": "code",
      "source": [
        "#Declaração de variáveis\n",
        "preco_cenoura = 4.5\n",
        "preco_oleo = 12\n",
        "preco_fermento = 15\n",
        "preco_leite = 5\n",
        "preco_acucar = 6\n",
        "preco_ovos = 12"
      ],
      "metadata": {
        "id": "HQcA6gVIaQfQ"
      },
      "execution_count": null,
      "outputs": []
    },
    {
      "cell_type": "code",
      "source": [
        "def soma_ingredientes(tem_cenoura, tem_acucar, tem_ovos, tem_oleo, tem_fermento, tem_leite):\n",
        "    total_compra = 0\n",
        "    if tem_cenoura:\n",
        "        total_compra += preco_cenoura\n",
        "    if tem_acucar:\n",
        "        total_compra += preco_acucar\n",
        "    if tem_ovos:\n",
        "        total_compra += preco_ovos\n",
        "    if tem_oleo:\n",
        "        total_compra += preco_oleo\n",
        "    if tem_fermento:\n",
        "        total_compra += preco_fermento\n",
        "    if tem_leite:\n",
        "        total_compra += preco_leite\n",
        "    return total_compra\n"
      ],
      "metadata": {
        "id": "Oi8EtXIUazaY"
      },
      "execution_count": null,
      "outputs": []
    },
    {
      "cell_type": "code",
      "source": [
        "  terminal_tem_cenoura = True\n",
        "  terminal_tem_acucar = True\n",
        "  terminal_tem_ovos = True\n",
        "  terminal_tem_oleo = True\n",
        "  terminal_tem_fermento = True\n",
        "  terminal_tem_leite = True\n",
        "\n",
        "  total = soma_ingredientes(\n",
        "  terminal_tem_cenoura,\n",
        "  terminal_tem_acucar,\n",
        "  terminal_tem_ovos,\n",
        "  terminal_tem_oleo,\n",
        "  terminal_tem_fermento,\n",
        "  terminal_tem_leite\n",
        "    )\n",
        "\n",
        "  print(\"Total dos ingredientes: R$\", total)\n",
        "\n"
      ],
      "metadata": {
        "colab": {
          "base_uri": "https://localhost:8080/"
        },
        "id": "xUimSbhJbK31",
        "outputId": "f5d58a0d-e7a6-4782-c79b-ab899a90fc37"
      },
      "execution_count": null,
      "outputs": [
        {
          "output_type": "stream",
          "name": "stdout",
          "text": [
            "Total dos ingredientes: R$ 54.5\n"
          ]
        }
      ]
    }
  ]
}