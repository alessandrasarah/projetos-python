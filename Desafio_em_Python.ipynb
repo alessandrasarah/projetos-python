{
  "nbformat": 4,
  "nbformat_minor": 0,
  "metadata": {
    "colab": {
      "provenance": [],
      "authorship_tag": "ABX9TyMFGtJJu9WXEyjZkC+i79OS",
      "include_colab_link": true
    },
    "kernelspec": {
      "name": "python3",
      "display_name": "Python 3"
    },
    "language_info": {
      "name": "python"
    }
  },
  "cells": [
    {
      "cell_type": "markdown",
      "metadata": {
        "id": "view-in-github",
        "colab_type": "text"
      },
      "source": [
        "<a href=\"https://colab.research.google.com/github/alessandrasarah/projetos-python/blob/main/Desafio_em_Python.ipynb\" target=\"_parent\"><img src=\"https://colab.research.google.com/assets/colab-badge.svg\" alt=\"Open In Colab\"/></a>"
      ]
    },
    {
      "cell_type": "code",
      "execution_count": 18,
      "metadata": {
        "colab": {
          "base_uri": "https://localhost:8080/"
        },
        "id": "O6K4nOVg4RzP",
        "outputId": "7c9cb639-555b-4a74-fe51-d59e6091636b"
      },
      "outputs": [
        {
          "output_type": "stream",
          "name": "stdout",
          "text": [
            "Digite sua idade: 32\n",
            "Você é maior de idade.\n"
          ]
        }
      ],
      "source": [
        "# Peça ao usuário sua idade e informe se ele é menor de idade, maior de idade ou idoso (60 anos ou mais).\n",
        "idade = int(input('Digite sua idade: '))\n",
        "\n",
        "if idade < 18:\n",
        "    print('Você é menor de idade.')\n",
        "elif idade < 60:\n",
        "    print('Você é maior de idade.')\n",
        "else:\n",
        "    print('Você é idoso.')\n"
      ]
    },
    {
      "cell_type": "code",
      "source": [
        "#Escreva um programa que receba uma string e informe quantas vogais e consoantes existem na frase digitada. Ignore números, espaços e caracteres especiais.\n",
        "frase = input('Digite uma frase: ').lower()\n",
        "\n",
        "vogais = 'aeiou'\n",
        "consoantes = 'bcdfghjklmnpqrstvwxyz'\n",
        "\n",
        "qtd_vogais = 0\n",
        "qtd_consoantes = 0\n",
        "\n",
        "for letra in frase:\n",
        "    if letra in vogais:\n",
        "        qtd_vogais += 1\n",
        "    elif letra in consoantes:\n",
        "        qtd_consoantes += 1\n",
        "\n",
        "print(f'Vogais: {qtd_vogais}')\n",
        "print(f'Consoantes: {qtd_consoantes}')"
      ],
      "metadata": {
        "colab": {
          "base_uri": "https://localhost:8080/"
        },
        "id": "UfOhBe40ASZs",
        "outputId": "cc4ee57b-0b6a-492e-81a7-8ff6c0a58339"
      },
      "execution_count": 19,
      "outputs": [
        {
          "output_type": "stream",
          "name": "stdout",
          "text": [
            "Digite uma frase: Python\n",
            "Vogais: 1\n",
            "Consoantes: 5\n"
          ]
        }
      ]
    },
    {
      "cell_type": "code",
      "source": [
        "#Escreva um programa em que o usuário escolhe os limites mínimo e máximo do intervalo (por exemplo, de 10 a 50).\n",
        "\n",
        "#O computador escolhe aleatoriamente um número dentro dessa faixa, e o usuário tenta adivinhar.\n",
        "import random\n",
        "\n",
        "minimo = int(input('Digite o valor mínimo do intervalo: '))\n",
        "maximo = int(input('Digite o valor máximo do intervalo: '))\n",
        "\n",
        "numero_secreto = random.randint(minimo, maximo)\n",
        "\n",
        "tentativa = int(input(f'Adivinhe o número entre {minimo} e {maximo}: '))\n",
        "\n",
        "while tentativa != numero_secreto:\n",
        "    if tentativa < numero_secreto:\n",
        "        print('Tente um número maior.')\n",
        "    else:\n",
        "        print('Tente um número menor.')\n",
        "    tentativa = int(input('Tente novamente: '))\n",
        "\n",
        "print('Parabéns! Você acertou o número.')"
      ],
      "metadata": {
        "colab": {
          "base_uri": "https://localhost:8080/"
        },
        "id": "rwFlhWRcAb33",
        "outputId": "7443b88a-1107-4a2d-93cc-854be3225573"
      },
      "execution_count": 20,
      "outputs": [
        {
          "output_type": "stream",
          "name": "stdout",
          "text": [
            "Digite o valor mínimo do intervalo: 1\n",
            "Digite o valor máximo do intervalo: 10\n",
            "Adivinhe o número entre 1 e 10: 5\n",
            "Parabéns! Você acertou o número.\n"
          ]
        }
      ]
    },
    {
      "cell_type": "code",
      "source": [
        "\"\"\"Crie um programa para o usuário registrar os filmes que já assistiu:\n",
        "\n",
        "Adicionar título do filme\n",
        "\n",
        "Marcar se gostou (sim/não)\n",
        "\n",
        "Ver lista de filmes com avaliação\n",
        "\n",
        "Remover filme da lista\n",
        "\n",
        "Sair\n",
        "\n",
        "Use uma lista de dicionários para armazenar título e avaliação.\"\"\"\n",
        "filmes = []\n",
        "\n",
        "def adicionar_filme():\n",
        "    titulo = input('Digite o título do filme: ')\n",
        "    avaliacao = input('Voce gostou do filme? (sim/não): ').lower()\n",
        "    filmes.append({'titulo': titulo, 'avaliacao': avaliacao})\n",
        "    print('Filme adicionado com sucesso!\\n')\n",
        "\n",
        "def listar_filmes():\n",
        "    if not filmes:\n",
        "        print('Nenhum filme registrado.\\n')\n",
        "        return\n",
        "    print('\\nLista de filmes:')\n",
        "    for i, filme in enumerate(filmes, start=1):\n",
        "        print(f\"{i}. {filme['titulo']} - Avaliação: {filme['avaliacao']}\")\n",
        "    print()\n",
        "\n",
        "def remover_filme():\n",
        "    listar_filmes()\n",
        "    if not filmes:\n",
        "        return\n",
        "    indice = int(input('Digite o número do filme a ser removido: ')) - 1\n",
        "    if 0 <= indice < len(filmes):\n",
        "        removido = filmes.pop(indice)\n",
        "        print(f\"Filme '{removido['titulo']}' removido com sucesso!\\n\")\n",
        "    else:\n",
        "        print('Número inválido.\\n')\n",
        "\n",
        "while True:\n",
        "    print('Menu:')\n",
        "    print('1. Adicionar título do filme')\n",
        "    print('2. Marcar se gostou (sim/não)')\n",
        "    print('3. Ver lista de filmes com avaliação')\n",
        "    print('4. Remover filme da lista')\n",
        "    print('5. Sair')\n",
        "\n",
        "    escolha = input('Escolha uma opção (1-5): ')\n",
        "\n",
        "    if escolha == '1':\n",
        "        adicionar_filme()\n",
        "    elif escolha == '2':\n",
        "        print('Para avaliar, adicione um novo filme na opção 1.\\n')\n",
        "    elif escolha == '3':\n",
        "        listar_filmes()\n",
        "    elif escolha == '4':\n",
        "        remover_filme()\n",
        "    elif escolha == '5':\n",
        "        print('Saindo do programa. Até mais!')\n",
        "        break\n",
        "    else:\n",
        "        print('Opção inválida. Tente novamente.\\n')"
      ],
      "metadata": {
        "colab": {
          "base_uri": "https://localhost:8080/"
        },
        "id": "gxmOB_fTAjGE",
        "outputId": "065c8f92-5d08-4591-ce7b-672f29b80814"
      },
      "execution_count": 21,
      "outputs": [
        {
          "output_type": "stream",
          "name": "stdout",
          "text": [
            "Menu:\n",
            "1. Adicionar título do filme\n",
            "2. Marcar se gostou (sim/não)\n",
            "3. Ver lista de filmes com avaliação\n",
            "4. Remover filme da lista\n",
            "5. Sair\n",
            "Escolha uma opção (1-5): 1\n",
            "Digite o título do filme: Brilho eterno de uma mente sem lembranças\n",
            "Voce gostou do filme? (sim/não): sim\n",
            "Filme adicionado com sucesso!\n",
            "\n",
            "Menu:\n",
            "1. Adicionar título do filme\n",
            "2. Marcar se gostou (sim/não)\n",
            "3. Ver lista de filmes com avaliação\n",
            "4. Remover filme da lista\n",
            "5. Sair\n",
            "Escolha uma opção (1-5): 1\n",
            "Digite o título do filme: Miss sunshine\n",
            "Voce gostou do filme? (sim/não): sim\n",
            "Filme adicionado com sucesso!\n",
            "\n",
            "Menu:\n",
            "1. Adicionar título do filme\n",
            "2. Marcar se gostou (sim/não)\n",
            "3. Ver lista de filmes com avaliação\n",
            "4. Remover filme da lista\n",
            "5. Sair\n",
            "Escolha uma opção (1-5): 1\n",
            "Digite o título do filme: Anjos da noite\n",
            "Voce gostou do filme? (sim/não): sim\n",
            "Filme adicionado com sucesso!\n",
            "\n",
            "Menu:\n",
            "1. Adicionar título do filme\n",
            "2. Marcar se gostou (sim/não)\n",
            "3. Ver lista de filmes com avaliação\n",
            "4. Remover filme da lista\n",
            "5. Sair\n",
            "Escolha uma opção (1-5): 3\n",
            "\n",
            "Lista de filmes:\n",
            "1. Brilho eterno de uma mente sem lembranças - Avaliação: sim\n",
            "2. Miss sunshine - Avaliação: sim\n",
            "3. Anjos da noite - Avaliação: sim\n",
            "\n",
            "Menu:\n",
            "1. Adicionar título do filme\n",
            "2. Marcar se gostou (sim/não)\n",
            "3. Ver lista de filmes com avaliação\n",
            "4. Remover filme da lista\n",
            "5. Sair\n",
            "Escolha uma opção (1-5): 5\n",
            "Saindo do programa. Até mais!\n"
          ]
        }
      ]
    },
    {
      "cell_type": "code",
      "source": [
        "#Peça ao usuário um número inteiro não negativo e calcule seu fatorial usando um laço (for ou while). Exemplo: 5! = 5 × 4 × 3 × 2 × 1 = 120\n",
        "num = int(input('Digite um número inteiro não negativo: '))\n",
        "\n",
        "if num < 0:\n",
        "    print('Número inválido! Digite um número não negativo.')\n",
        "else:\n",
        "    fatorial = 1\n",
        "    for i in range(1, num + 1):\n",
        "        fatorial *= i\n",
        "    print(f'O fatorial de {num} é {fatorial}')"
      ],
      "metadata": {
        "colab": {
          "base_uri": "https://localhost:8080/"
        },
        "id": "dxOe3BWGBMNk",
        "outputId": "56bfcce1-db64-4e40-95c8-93f89ab57e4b"
      },
      "execution_count": 22,
      "outputs": [
        {
          "output_type": "stream",
          "name": "stdout",
          "text": [
            "Digite um número inteiro não negativo: 5\n",
            "O fatorial de 5 é 120\n"
          ]
        }
      ]
    }
  ]
}